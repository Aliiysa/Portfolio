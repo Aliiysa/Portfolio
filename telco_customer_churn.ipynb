{
 "cells": [
  {
   "cell_type": "markdown",
   "id": "922b91b3",
   "metadata": {},
   "source": [
    "### **What is Customer Churn?**  \n",
    "Customer churn refers to the situation where customers or subscribers stop doing business with a particular firm or service.  \n",
    "In the highly competitive telecommunications industry, customers have many choices and often switch between providers, leading to an annual churn rate of 15-25 percent.  \n",
    "Due to the large number of customers, it's difficult for companies to focus on individual customer retention, as the costs would outweigh the additional revenue. However, by predicting which customers are at risk of leaving, the company can focus on retaining these \"high risk\" customers to increase loyalty and revenue. Reducing customer churn is crucial as it's less expensive to retain existing customers than to acquire new ones.  \n",
    "To lower customer churn, telecom companies must predict which customers are at risk and have a comprehensive understanding of their interactions through various channels. By reducing customer churn, the company can not only maintain its market position but also grow and succeed, as having more customers in their network results in lower costs and higher profits. The company's focus should be on reducing customer attrition and implementing effective retention strategies."
   ]
  },
  {
   "cell_type": "markdown",
   "id": "e9c2ec14",
   "metadata": {},
   "source": [
    "#### Importing libraries"
   ]
  },
  {
   "cell_type": "code",
   "execution_count": 1,
   "id": "990f2455",
   "metadata": {},
   "outputs": [],
   "source": [
    "import pandas as pd\n",
    "import numpy as np\n",
    "import seaborn as sns\n",
    "import matplotlib.pyplot as plt\n",
    "%matplotlib inline"
   ]
  },
  {
   "cell_type": "code",
   "execution_count": 49,
   "id": "1d021dc1",
   "metadata": {},
   "outputs": [],
   "source": [
    "from sklearn.model_selection import train_test_split\n",
    "\n",
    "from sklearn.metrics import accuracy_score\n",
    "\n",
    "from sklearn.metrics import classification_report\n",
    "\n",
    "from sklearn.metrics import plot_confusion_matrix"
   ]
  },
  {
   "cell_type": "code",
   "execution_count": 58,
   "id": "f3aa3e58",
   "metadata": {},
   "outputs": [],
   "source": [
    "from sklearn.neighbors import KNeighborsClassifier\n",
    "from sklearn.linear_model import LogisticRegression\n",
    "from sklearn.svm import SVC\n",
    "from sklearn.ensemble import RandomForestClassifier\n",
    "from sklearn.ensemble import GradientBoostingClassifier\n",
    "from xgboost import XGBClassifier"
   ]
  },
  {
   "cell_type": "markdown",
   "id": "36cdda7f",
   "metadata": {},
   "source": [
    "### The Dataset  \n",
    "The data set used in this article is available in the Kaggle and contains nineteen columns (independent variables) that indicate the characteristics of the clients of a fictional telecommunications corporation. The `Churn` column (response variable) indicates whether the customer departed within the last month or not. The class `No` includes the clients that did not leave the company last month, while the class `Yes` contains the clients that decided to terminate their relations with the company. The objective of the analysis is to obtain the relation between the customer’s characteristics and the churn."
   ]
  },
  {
   "cell_type": "markdown",
   "id": "c55b8f6a",
   "metadata": {},
   "source": [
    "#### Read dataset"
   ]
  },
  {
   "cell_type": "code",
   "execution_count": 2,
   "id": "02e9772e",
   "metadata": {},
   "outputs": [],
   "source": [
    "df = pd.read_csv(\"data/WA_Fn-UseC_-Telco-Customer-Churn.csv\")"
   ]
  },
  {
   "cell_type": "code",
   "execution_count": 3,
   "id": "69e4d69b",
   "metadata": {},
   "outputs": [
    {
     "data": {
      "text/plain": [
       "7043"
      ]
     },
     "execution_count": 3,
     "metadata": {},
     "output_type": "execute_result"
    }
   ],
   "source": [
    "len(df)"
   ]
  },
  {
   "cell_type": "code",
   "execution_count": 4,
   "id": "e2a336b3",
   "metadata": {},
   "outputs": [
    {
     "data": {
      "text/html": [
       "<div>\n",
       "<style scoped>\n",
       "    .dataframe tbody tr th:only-of-type {\n",
       "        vertical-align: middle;\n",
       "    }\n",
       "\n",
       "    .dataframe tbody tr th {\n",
       "        vertical-align: top;\n",
       "    }\n",
       "\n",
       "    .dataframe thead th {\n",
       "        text-align: right;\n",
       "    }\n",
       "</style>\n",
       "<table border=\"1\" class=\"dataframe\">\n",
       "  <thead>\n",
       "    <tr style=\"text-align: right;\">\n",
       "      <th></th>\n",
       "      <th>customerID</th>\n",
       "      <th>gender</th>\n",
       "      <th>SeniorCitizen</th>\n",
       "      <th>Partner</th>\n",
       "      <th>Dependents</th>\n",
       "      <th>tenure</th>\n",
       "      <th>PhoneService</th>\n",
       "      <th>MultipleLines</th>\n",
       "      <th>InternetService</th>\n",
       "      <th>OnlineSecurity</th>\n",
       "      <th>...</th>\n",
       "      <th>DeviceProtection</th>\n",
       "      <th>TechSupport</th>\n",
       "      <th>StreamingTV</th>\n",
       "      <th>StreamingMovies</th>\n",
       "      <th>Contract</th>\n",
       "      <th>PaperlessBilling</th>\n",
       "      <th>PaymentMethod</th>\n",
       "      <th>MonthlyCharges</th>\n",
       "      <th>TotalCharges</th>\n",
       "      <th>Churn</th>\n",
       "    </tr>\n",
       "  </thead>\n",
       "  <tbody>\n",
       "    <tr>\n",
       "      <th>0</th>\n",
       "      <td>7590-VHVEG</td>\n",
       "      <td>Female</td>\n",
       "      <td>0</td>\n",
       "      <td>Yes</td>\n",
       "      <td>No</td>\n",
       "      <td>1</td>\n",
       "      <td>No</td>\n",
       "      <td>No phone service</td>\n",
       "      <td>DSL</td>\n",
       "      <td>No</td>\n",
       "      <td>...</td>\n",
       "      <td>No</td>\n",
       "      <td>No</td>\n",
       "      <td>No</td>\n",
       "      <td>No</td>\n",
       "      <td>Month-to-month</td>\n",
       "      <td>Yes</td>\n",
       "      <td>Electronic check</td>\n",
       "      <td>29.85</td>\n",
       "      <td>29.85</td>\n",
       "      <td>No</td>\n",
       "    </tr>\n",
       "    <tr>\n",
       "      <th>1</th>\n",
       "      <td>5575-GNVDE</td>\n",
       "      <td>Male</td>\n",
       "      <td>0</td>\n",
       "      <td>No</td>\n",
       "      <td>No</td>\n",
       "      <td>34</td>\n",
       "      <td>Yes</td>\n",
       "      <td>No</td>\n",
       "      <td>DSL</td>\n",
       "      <td>Yes</td>\n",
       "      <td>...</td>\n",
       "      <td>Yes</td>\n",
       "      <td>No</td>\n",
       "      <td>No</td>\n",
       "      <td>No</td>\n",
       "      <td>One year</td>\n",
       "      <td>No</td>\n",
       "      <td>Mailed check</td>\n",
       "      <td>56.95</td>\n",
       "      <td>1889.5</td>\n",
       "      <td>No</td>\n",
       "    </tr>\n",
       "    <tr>\n",
       "      <th>2</th>\n",
       "      <td>3668-QPYBK</td>\n",
       "      <td>Male</td>\n",
       "      <td>0</td>\n",
       "      <td>No</td>\n",
       "      <td>No</td>\n",
       "      <td>2</td>\n",
       "      <td>Yes</td>\n",
       "      <td>No</td>\n",
       "      <td>DSL</td>\n",
       "      <td>Yes</td>\n",
       "      <td>...</td>\n",
       "      <td>No</td>\n",
       "      <td>No</td>\n",
       "      <td>No</td>\n",
       "      <td>No</td>\n",
       "      <td>Month-to-month</td>\n",
       "      <td>Yes</td>\n",
       "      <td>Mailed check</td>\n",
       "      <td>53.85</td>\n",
       "      <td>108.15</td>\n",
       "      <td>Yes</td>\n",
       "    </tr>\n",
       "    <tr>\n",
       "      <th>3</th>\n",
       "      <td>7795-CFOCW</td>\n",
       "      <td>Male</td>\n",
       "      <td>0</td>\n",
       "      <td>No</td>\n",
       "      <td>No</td>\n",
       "      <td>45</td>\n",
       "      <td>No</td>\n",
       "      <td>No phone service</td>\n",
       "      <td>DSL</td>\n",
       "      <td>Yes</td>\n",
       "      <td>...</td>\n",
       "      <td>Yes</td>\n",
       "      <td>Yes</td>\n",
       "      <td>No</td>\n",
       "      <td>No</td>\n",
       "      <td>One year</td>\n",
       "      <td>No</td>\n",
       "      <td>Bank transfer (automatic)</td>\n",
       "      <td>42.30</td>\n",
       "      <td>1840.75</td>\n",
       "      <td>No</td>\n",
       "    </tr>\n",
       "    <tr>\n",
       "      <th>4</th>\n",
       "      <td>9237-HQITU</td>\n",
       "      <td>Female</td>\n",
       "      <td>0</td>\n",
       "      <td>No</td>\n",
       "      <td>No</td>\n",
       "      <td>2</td>\n",
       "      <td>Yes</td>\n",
       "      <td>No</td>\n",
       "      <td>Fiber optic</td>\n",
       "      <td>No</td>\n",
       "      <td>...</td>\n",
       "      <td>No</td>\n",
       "      <td>No</td>\n",
       "      <td>No</td>\n",
       "      <td>No</td>\n",
       "      <td>Month-to-month</td>\n",
       "      <td>Yes</td>\n",
       "      <td>Electronic check</td>\n",
       "      <td>70.70</td>\n",
       "      <td>151.65</td>\n",
       "      <td>Yes</td>\n",
       "    </tr>\n",
       "  </tbody>\n",
       "</table>\n",
       "<p>5 rows × 21 columns</p>\n",
       "</div>"
      ],
      "text/plain": [
       "   customerID  gender  SeniorCitizen Partner Dependents  tenure PhoneService  \\\n",
       "0  7590-VHVEG  Female              0     Yes         No       1           No   \n",
       "1  5575-GNVDE    Male              0      No         No      34          Yes   \n",
       "2  3668-QPYBK    Male              0      No         No       2          Yes   \n",
       "3  7795-CFOCW    Male              0      No         No      45           No   \n",
       "4  9237-HQITU  Female              0      No         No       2          Yes   \n",
       "\n",
       "      MultipleLines InternetService OnlineSecurity  ... DeviceProtection  \\\n",
       "0  No phone service             DSL             No  ...               No   \n",
       "1                No             DSL            Yes  ...              Yes   \n",
       "2                No             DSL            Yes  ...               No   \n",
       "3  No phone service             DSL            Yes  ...              Yes   \n",
       "4                No     Fiber optic             No  ...               No   \n",
       "\n",
       "  TechSupport StreamingTV StreamingMovies        Contract PaperlessBilling  \\\n",
       "0          No          No              No  Month-to-month              Yes   \n",
       "1          No          No              No        One year               No   \n",
       "2          No          No              No  Month-to-month              Yes   \n",
       "3         Yes          No              No        One year               No   \n",
       "4          No          No              No  Month-to-month              Yes   \n",
       "\n",
       "               PaymentMethod MonthlyCharges  TotalCharges Churn  \n",
       "0           Electronic check          29.85         29.85    No  \n",
       "1               Mailed check          56.95        1889.5    No  \n",
       "2               Mailed check          53.85        108.15   Yes  \n",
       "3  Bank transfer (automatic)          42.30       1840.75    No  \n",
       "4           Electronic check          70.70        151.65   Yes  \n",
       "\n",
       "[5 rows x 21 columns]"
      ]
     },
     "execution_count": 4,
     "metadata": {},
     "output_type": "execute_result"
    }
   ],
   "source": [
    "df.head()"
   ]
  },
  {
   "cell_type": "code",
   "execution_count": 5,
   "id": "2fa66ea0",
   "metadata": {},
   "outputs": [
    {
     "data": {
      "text/plain": [
       "Index(['customerID', 'gender', 'SeniorCitizen', 'Partner', 'Dependents',\n",
       "       'tenure', 'PhoneService', 'MultipleLines', 'InternetService',\n",
       "       'OnlineSecurity', 'OnlineBackup', 'DeviceProtection', 'TechSupport',\n",
       "       'StreamingTV', 'StreamingMovies', 'Contract', 'PaperlessBilling',\n",
       "       'PaymentMethod', 'MonthlyCharges', 'TotalCharges', 'Churn'],\n",
       "      dtype='object')"
      ]
     },
     "execution_count": 5,
     "metadata": {},
     "output_type": "execute_result"
    }
   ],
   "source": [
    "df.columns"
   ]
  },
  {
   "cell_type": "code",
   "execution_count": 6,
   "id": "ab305db9",
   "metadata": {},
   "outputs": [
    {
     "name": "stdout",
     "output_type": "stream",
     "text": [
      "<class 'pandas.core.frame.DataFrame'>\n",
      "RangeIndex: 7043 entries, 0 to 7042\n",
      "Data columns (total 21 columns):\n",
      " #   Column            Non-Null Count  Dtype  \n",
      "---  ------            --------------  -----  \n",
      " 0   customerID        7043 non-null   object \n",
      " 1   gender            7043 non-null   object \n",
      " 2   SeniorCitizen     7043 non-null   int64  \n",
      " 3   Partner           7043 non-null   object \n",
      " 4   Dependents        7043 non-null   object \n",
      " 5   tenure            7043 non-null   int64  \n",
      " 6   PhoneService      7043 non-null   object \n",
      " 7   MultipleLines     7043 non-null   object \n",
      " 8   InternetService   7043 non-null   object \n",
      " 9   OnlineSecurity    7043 non-null   object \n",
      " 10  OnlineBackup      7043 non-null   object \n",
      " 11  DeviceProtection  7043 non-null   object \n",
      " 12  TechSupport       7043 non-null   object \n",
      " 13  StreamingTV       7043 non-null   object \n",
      " 14  StreamingMovies   7043 non-null   object \n",
      " 15  Contract          7043 non-null   object \n",
      " 16  PaperlessBilling  7043 non-null   object \n",
      " 17  PaymentMethod     7043 non-null   object \n",
      " 18  MonthlyCharges    7043 non-null   float64\n",
      " 19  TotalCharges      7043 non-null   object \n",
      " 20  Churn             7043 non-null   object \n",
      "dtypes: float64(1), int64(2), object(18)\n",
      "memory usage: 1.1+ MB\n"
     ]
    }
   ],
   "source": [
    "df.info()"
   ]
  },
  {
   "cell_type": "markdown",
   "id": "4a2ce2d3",
   "metadata": {},
   "source": [
    "Dataset contains 7043 observations and 21 columns"
   ]
  },
  {
   "cell_type": "markdown",
   "id": "6d99be34",
   "metadata": {},
   "source": [
    "- CustomerID: the ID of the customer  \n",
    "- Gender: male/female  \n",
    "- SeniorCitizen: whether the customer is a senior citizen (0/1)  \n",
    "- Partner: whether they live with a partner (yes/no)  \n",
    "- Dependents: whether they have dependents (yes/no)  \n",
    "- Tenure: number of months since the start of the contract  \n",
    "- PhoneService: whether they have phone service (yes/no)  \n",
    "- MultipleLines: whether they have multiple phone lines (yes/no/no phone service)  \n",
    "- InternetService: the type of internet service (no/fiber/optic)  \n",
    "- OnlineSecurity: if online security is enabled (yes/no/no internet)  \n",
    "- OnlineBackup: if online backup service is enabled (yes/no/no internet)  \n",
    "- DeviceProtection: if the device protection service is enabled (yes/no/no internet)  \n",
    "- TechSupport: if the customer has tech support (yes/no/no internet)  \n",
    "- StreamingTV: if the TV streaming service is enabled (yes/no/no internet)  \n",
    "- StreamingMovies: if the movie streaming service is enabled (yes/no/no internet)  \n",
    "- Contract: the type of contract (monthly/yearly/two years)  \n",
    "- PaperlessBilling: if the billing is paperless (yes/no)  \n",
    "- PaymentMethod: payment method (electronic check, mailed check, bank transfer, credit card)  \n",
    "- MonthlyCharges: the amount charged monthly (numeric)  \n",
    "- TotalCharges: the total amount charged (numeric)  \n",
    "- Churn: if the client has canceled the contract (yes/no)"
   ]
  },
  {
   "cell_type": "markdown",
   "id": "de52b262",
   "metadata": {},
   "source": [
    "Pandas automatically inferred types for all the columns of the dataframe. TotalCharges is incorrectyly identified as **object** but it should be **float**"
   ]
  },
  {
   "cell_type": "code",
   "execution_count": 7,
   "id": "091009d5",
   "metadata": {},
   "outputs": [],
   "source": [
    "df[\"TotalCharges\"] = pd.to_numeric(df[\"TotalCharges\"], errors=\"coerce\")"
   ]
  },
  {
   "cell_type": "code",
   "execution_count": 8,
   "id": "9f3487af",
   "metadata": {},
   "outputs": [
    {
     "data": {
      "text/html": [
       "<div>\n",
       "<style scoped>\n",
       "    .dataframe tbody tr th:only-of-type {\n",
       "        vertical-align: middle;\n",
       "    }\n",
       "\n",
       "    .dataframe tbody tr th {\n",
       "        vertical-align: top;\n",
       "    }\n",
       "\n",
       "    .dataframe thead th {\n",
       "        text-align: right;\n",
       "    }\n",
       "</style>\n",
       "<table border=\"1\" class=\"dataframe\">\n",
       "  <thead>\n",
       "    <tr style=\"text-align: right;\">\n",
       "      <th></th>\n",
       "      <th>customerID</th>\n",
       "      <th>gender</th>\n",
       "      <th>SeniorCitizen</th>\n",
       "      <th>Partner</th>\n",
       "      <th>Dependents</th>\n",
       "      <th>tenure</th>\n",
       "      <th>PhoneService</th>\n",
       "      <th>MultipleLines</th>\n",
       "      <th>InternetService</th>\n",
       "      <th>OnlineSecurity</th>\n",
       "      <th>...</th>\n",
       "      <th>DeviceProtection</th>\n",
       "      <th>TechSupport</th>\n",
       "      <th>StreamingTV</th>\n",
       "      <th>StreamingMovies</th>\n",
       "      <th>Contract</th>\n",
       "      <th>PaperlessBilling</th>\n",
       "      <th>PaymentMethod</th>\n",
       "      <th>MonthlyCharges</th>\n",
       "      <th>TotalCharges</th>\n",
       "      <th>Churn</th>\n",
       "    </tr>\n",
       "  </thead>\n",
       "  <tbody>\n",
       "    <tr>\n",
       "      <th>488</th>\n",
       "      <td>4472-LVYGI</td>\n",
       "      <td>Female</td>\n",
       "      <td>0</td>\n",
       "      <td>Yes</td>\n",
       "      <td>Yes</td>\n",
       "      <td>0</td>\n",
       "      <td>No</td>\n",
       "      <td>No phone service</td>\n",
       "      <td>DSL</td>\n",
       "      <td>Yes</td>\n",
       "      <td>...</td>\n",
       "      <td>Yes</td>\n",
       "      <td>Yes</td>\n",
       "      <td>Yes</td>\n",
       "      <td>No</td>\n",
       "      <td>Two year</td>\n",
       "      <td>Yes</td>\n",
       "      <td>Bank transfer (automatic)</td>\n",
       "      <td>52.55</td>\n",
       "      <td>NaN</td>\n",
       "      <td>No</td>\n",
       "    </tr>\n",
       "    <tr>\n",
       "      <th>753</th>\n",
       "      <td>3115-CZMZD</td>\n",
       "      <td>Male</td>\n",
       "      <td>0</td>\n",
       "      <td>No</td>\n",
       "      <td>Yes</td>\n",
       "      <td>0</td>\n",
       "      <td>Yes</td>\n",
       "      <td>No</td>\n",
       "      <td>No</td>\n",
       "      <td>No internet service</td>\n",
       "      <td>...</td>\n",
       "      <td>No internet service</td>\n",
       "      <td>No internet service</td>\n",
       "      <td>No internet service</td>\n",
       "      <td>No internet service</td>\n",
       "      <td>Two year</td>\n",
       "      <td>No</td>\n",
       "      <td>Mailed check</td>\n",
       "      <td>20.25</td>\n",
       "      <td>NaN</td>\n",
       "      <td>No</td>\n",
       "    </tr>\n",
       "    <tr>\n",
       "      <th>936</th>\n",
       "      <td>5709-LVOEQ</td>\n",
       "      <td>Female</td>\n",
       "      <td>0</td>\n",
       "      <td>Yes</td>\n",
       "      <td>Yes</td>\n",
       "      <td>0</td>\n",
       "      <td>Yes</td>\n",
       "      <td>No</td>\n",
       "      <td>DSL</td>\n",
       "      <td>Yes</td>\n",
       "      <td>...</td>\n",
       "      <td>Yes</td>\n",
       "      <td>No</td>\n",
       "      <td>Yes</td>\n",
       "      <td>Yes</td>\n",
       "      <td>Two year</td>\n",
       "      <td>No</td>\n",
       "      <td>Mailed check</td>\n",
       "      <td>80.85</td>\n",
       "      <td>NaN</td>\n",
       "      <td>No</td>\n",
       "    </tr>\n",
       "    <tr>\n",
       "      <th>1082</th>\n",
       "      <td>4367-NUYAO</td>\n",
       "      <td>Male</td>\n",
       "      <td>0</td>\n",
       "      <td>Yes</td>\n",
       "      <td>Yes</td>\n",
       "      <td>0</td>\n",
       "      <td>Yes</td>\n",
       "      <td>Yes</td>\n",
       "      <td>No</td>\n",
       "      <td>No internet service</td>\n",
       "      <td>...</td>\n",
       "      <td>No internet service</td>\n",
       "      <td>No internet service</td>\n",
       "      <td>No internet service</td>\n",
       "      <td>No internet service</td>\n",
       "      <td>Two year</td>\n",
       "      <td>No</td>\n",
       "      <td>Mailed check</td>\n",
       "      <td>25.75</td>\n",
       "      <td>NaN</td>\n",
       "      <td>No</td>\n",
       "    </tr>\n",
       "    <tr>\n",
       "      <th>1340</th>\n",
       "      <td>1371-DWPAZ</td>\n",
       "      <td>Female</td>\n",
       "      <td>0</td>\n",
       "      <td>Yes</td>\n",
       "      <td>Yes</td>\n",
       "      <td>0</td>\n",
       "      <td>No</td>\n",
       "      <td>No phone service</td>\n",
       "      <td>DSL</td>\n",
       "      <td>Yes</td>\n",
       "      <td>...</td>\n",
       "      <td>Yes</td>\n",
       "      <td>Yes</td>\n",
       "      <td>Yes</td>\n",
       "      <td>No</td>\n",
       "      <td>Two year</td>\n",
       "      <td>No</td>\n",
       "      <td>Credit card (automatic)</td>\n",
       "      <td>56.05</td>\n",
       "      <td>NaN</td>\n",
       "      <td>No</td>\n",
       "    </tr>\n",
       "    <tr>\n",
       "      <th>3331</th>\n",
       "      <td>7644-OMVMY</td>\n",
       "      <td>Male</td>\n",
       "      <td>0</td>\n",
       "      <td>Yes</td>\n",
       "      <td>Yes</td>\n",
       "      <td>0</td>\n",
       "      <td>Yes</td>\n",
       "      <td>No</td>\n",
       "      <td>No</td>\n",
       "      <td>No internet service</td>\n",
       "      <td>...</td>\n",
       "      <td>No internet service</td>\n",
       "      <td>No internet service</td>\n",
       "      <td>No internet service</td>\n",
       "      <td>No internet service</td>\n",
       "      <td>Two year</td>\n",
       "      <td>No</td>\n",
       "      <td>Mailed check</td>\n",
       "      <td>19.85</td>\n",
       "      <td>NaN</td>\n",
       "      <td>No</td>\n",
       "    </tr>\n",
       "    <tr>\n",
       "      <th>3826</th>\n",
       "      <td>3213-VVOLG</td>\n",
       "      <td>Male</td>\n",
       "      <td>0</td>\n",
       "      <td>Yes</td>\n",
       "      <td>Yes</td>\n",
       "      <td>0</td>\n",
       "      <td>Yes</td>\n",
       "      <td>Yes</td>\n",
       "      <td>No</td>\n",
       "      <td>No internet service</td>\n",
       "      <td>...</td>\n",
       "      <td>No internet service</td>\n",
       "      <td>No internet service</td>\n",
       "      <td>No internet service</td>\n",
       "      <td>No internet service</td>\n",
       "      <td>Two year</td>\n",
       "      <td>No</td>\n",
       "      <td>Mailed check</td>\n",
       "      <td>25.35</td>\n",
       "      <td>NaN</td>\n",
       "      <td>No</td>\n",
       "    </tr>\n",
       "    <tr>\n",
       "      <th>4380</th>\n",
       "      <td>2520-SGTTA</td>\n",
       "      <td>Female</td>\n",
       "      <td>0</td>\n",
       "      <td>Yes</td>\n",
       "      <td>Yes</td>\n",
       "      <td>0</td>\n",
       "      <td>Yes</td>\n",
       "      <td>No</td>\n",
       "      <td>No</td>\n",
       "      <td>No internet service</td>\n",
       "      <td>...</td>\n",
       "      <td>No internet service</td>\n",
       "      <td>No internet service</td>\n",
       "      <td>No internet service</td>\n",
       "      <td>No internet service</td>\n",
       "      <td>Two year</td>\n",
       "      <td>No</td>\n",
       "      <td>Mailed check</td>\n",
       "      <td>20.00</td>\n",
       "      <td>NaN</td>\n",
       "      <td>No</td>\n",
       "    </tr>\n",
       "    <tr>\n",
       "      <th>5218</th>\n",
       "      <td>2923-ARZLG</td>\n",
       "      <td>Male</td>\n",
       "      <td>0</td>\n",
       "      <td>Yes</td>\n",
       "      <td>Yes</td>\n",
       "      <td>0</td>\n",
       "      <td>Yes</td>\n",
       "      <td>No</td>\n",
       "      <td>No</td>\n",
       "      <td>No internet service</td>\n",
       "      <td>...</td>\n",
       "      <td>No internet service</td>\n",
       "      <td>No internet service</td>\n",
       "      <td>No internet service</td>\n",
       "      <td>No internet service</td>\n",
       "      <td>One year</td>\n",
       "      <td>Yes</td>\n",
       "      <td>Mailed check</td>\n",
       "      <td>19.70</td>\n",
       "      <td>NaN</td>\n",
       "      <td>No</td>\n",
       "    </tr>\n",
       "    <tr>\n",
       "      <th>6670</th>\n",
       "      <td>4075-WKNIU</td>\n",
       "      <td>Female</td>\n",
       "      <td>0</td>\n",
       "      <td>Yes</td>\n",
       "      <td>Yes</td>\n",
       "      <td>0</td>\n",
       "      <td>Yes</td>\n",
       "      <td>Yes</td>\n",
       "      <td>DSL</td>\n",
       "      <td>No</td>\n",
       "      <td>...</td>\n",
       "      <td>Yes</td>\n",
       "      <td>Yes</td>\n",
       "      <td>Yes</td>\n",
       "      <td>No</td>\n",
       "      <td>Two year</td>\n",
       "      <td>No</td>\n",
       "      <td>Mailed check</td>\n",
       "      <td>73.35</td>\n",
       "      <td>NaN</td>\n",
       "      <td>No</td>\n",
       "    </tr>\n",
       "    <tr>\n",
       "      <th>6754</th>\n",
       "      <td>2775-SEFEE</td>\n",
       "      <td>Male</td>\n",
       "      <td>0</td>\n",
       "      <td>No</td>\n",
       "      <td>Yes</td>\n",
       "      <td>0</td>\n",
       "      <td>Yes</td>\n",
       "      <td>Yes</td>\n",
       "      <td>DSL</td>\n",
       "      <td>Yes</td>\n",
       "      <td>...</td>\n",
       "      <td>No</td>\n",
       "      <td>Yes</td>\n",
       "      <td>No</td>\n",
       "      <td>No</td>\n",
       "      <td>Two year</td>\n",
       "      <td>Yes</td>\n",
       "      <td>Bank transfer (automatic)</td>\n",
       "      <td>61.90</td>\n",
       "      <td>NaN</td>\n",
       "      <td>No</td>\n",
       "    </tr>\n",
       "  </tbody>\n",
       "</table>\n",
       "<p>11 rows × 21 columns</p>\n",
       "</div>"
      ],
      "text/plain": [
       "      customerID  gender  SeniorCitizen Partner Dependents  tenure  \\\n",
       "488   4472-LVYGI  Female              0     Yes        Yes       0   \n",
       "753   3115-CZMZD    Male              0      No        Yes       0   \n",
       "936   5709-LVOEQ  Female              0     Yes        Yes       0   \n",
       "1082  4367-NUYAO    Male              0     Yes        Yes       0   \n",
       "1340  1371-DWPAZ  Female              0     Yes        Yes       0   \n",
       "3331  7644-OMVMY    Male              0     Yes        Yes       0   \n",
       "3826  3213-VVOLG    Male              0     Yes        Yes       0   \n",
       "4380  2520-SGTTA  Female              0     Yes        Yes       0   \n",
       "5218  2923-ARZLG    Male              0     Yes        Yes       0   \n",
       "6670  4075-WKNIU  Female              0     Yes        Yes       0   \n",
       "6754  2775-SEFEE    Male              0      No        Yes       0   \n",
       "\n",
       "     PhoneService     MultipleLines InternetService       OnlineSecurity  ...  \\\n",
       "488            No  No phone service             DSL                  Yes  ...   \n",
       "753           Yes                No              No  No internet service  ...   \n",
       "936           Yes                No             DSL                  Yes  ...   \n",
       "1082          Yes               Yes              No  No internet service  ...   \n",
       "1340           No  No phone service             DSL                  Yes  ...   \n",
       "3331          Yes                No              No  No internet service  ...   \n",
       "3826          Yes               Yes              No  No internet service  ...   \n",
       "4380          Yes                No              No  No internet service  ...   \n",
       "5218          Yes                No              No  No internet service  ...   \n",
       "6670          Yes               Yes             DSL                   No  ...   \n",
       "6754          Yes               Yes             DSL                  Yes  ...   \n",
       "\n",
       "         DeviceProtection          TechSupport          StreamingTV  \\\n",
       "488                   Yes                  Yes                  Yes   \n",
       "753   No internet service  No internet service  No internet service   \n",
       "936                   Yes                   No                  Yes   \n",
       "1082  No internet service  No internet service  No internet service   \n",
       "1340                  Yes                  Yes                  Yes   \n",
       "3331  No internet service  No internet service  No internet service   \n",
       "3826  No internet service  No internet service  No internet service   \n",
       "4380  No internet service  No internet service  No internet service   \n",
       "5218  No internet service  No internet service  No internet service   \n",
       "6670                  Yes                  Yes                  Yes   \n",
       "6754                   No                  Yes                   No   \n",
       "\n",
       "          StreamingMovies  Contract PaperlessBilling  \\\n",
       "488                    No  Two year              Yes   \n",
       "753   No internet service  Two year               No   \n",
       "936                   Yes  Two year               No   \n",
       "1082  No internet service  Two year               No   \n",
       "1340                   No  Two year               No   \n",
       "3331  No internet service  Two year               No   \n",
       "3826  No internet service  Two year               No   \n",
       "4380  No internet service  Two year               No   \n",
       "5218  No internet service  One year              Yes   \n",
       "6670                   No  Two year               No   \n",
       "6754                   No  Two year              Yes   \n",
       "\n",
       "                  PaymentMethod MonthlyCharges  TotalCharges  Churn  \n",
       "488   Bank transfer (automatic)          52.55           NaN     No  \n",
       "753                Mailed check          20.25           NaN     No  \n",
       "936                Mailed check          80.85           NaN     No  \n",
       "1082               Mailed check          25.75           NaN     No  \n",
       "1340    Credit card (automatic)          56.05           NaN     No  \n",
       "3331               Mailed check          19.85           NaN     No  \n",
       "3826               Mailed check          25.35           NaN     No  \n",
       "4380               Mailed check          20.00           NaN     No  \n",
       "5218               Mailed check          19.70           NaN     No  \n",
       "6670               Mailed check          73.35           NaN     No  \n",
       "6754  Bank transfer (automatic)          61.90           NaN     No  \n",
       "\n",
       "[11 rows x 21 columns]"
      ]
     },
     "execution_count": 8,
     "metadata": {},
     "output_type": "execute_result"
    }
   ],
   "source": [
    "df[df[\"TotalCharges\"].isnull()]"
   ]
  },
  {
   "cell_type": "markdown",
   "id": "106aff8d",
   "metadata": {},
   "source": [
    "The column `TotalCharges` has 11 missing values.\n",
    "We are going to remove them from dataset."
   ]
  },
  {
   "cell_type": "code",
   "execution_count": 9,
   "id": "0b3cfae2",
   "metadata": {},
   "outputs": [],
   "source": [
    "df.dropna(inplace=True)"
   ]
  },
  {
   "cell_type": "markdown",
   "id": "f2c18957",
   "metadata": {},
   "source": [
    "`customerID` column is useless to explain whether not the customer will churn, for this reason we drop this column from the dataset."
   ]
  },
  {
   "cell_type": "code",
   "execution_count": 10,
   "id": "9a4d8b81",
   "metadata": {},
   "outputs": [],
   "source": [
    "df.drop(columns=\"customerID\", inplace=True)"
   ]
  },
  {
   "cell_type": "markdown",
   "id": "98fbcae1",
   "metadata": {},
   "source": [
    "Changing `Churn`values from **string** to **int**"
   ]
  },
  {
   "cell_type": "code",
   "execution_count": 11,
   "id": "49ec3006",
   "metadata": {},
   "outputs": [],
   "source": [
    "df[\"Churn\"] = (df[\"Churn\"] == 'Yes').astype(int)"
   ]
  },
  {
   "cell_type": "code",
   "execution_count": 12,
   "id": "71d9d068",
   "metadata": {},
   "outputs": [
    {
     "data": {
      "text/plain": [
       "0    0\n",
       "1    0\n",
       "2    1\n",
       "3    0\n",
       "4    1\n",
       "Name: Churn, dtype: int32"
      ]
     },
     "execution_count": 12,
     "metadata": {},
     "output_type": "execute_result"
    }
   ],
   "source": [
    "df[\"Churn\"].head()"
   ]
  },
  {
   "cell_type": "markdown",
   "id": "3f2457db",
   "metadata": {},
   "source": [
    "#### Mutual information"
   ]
  },
  {
   "cell_type": "markdown",
   "id": "be854d6f",
   "metadata": {},
   "source": [
    "We can measure the degree of dependency between a categorical variable and the target variable.\n",
    "Higher values of mutual information mean a higher degree of dependence: if the\n",
    "mutual information between a categorical variable and the target is high, this categorical variable will be quite useful for predicting the target. On the other hand, if the mutual information is low, the categorical variable and the target are independent,\n",
    "and thus the variable will not be useful for predicting the target."
   ]
  },
  {
   "cell_type": "code",
   "execution_count": 13,
   "id": "988ef576",
   "metadata": {},
   "outputs": [
    {
     "data": {
      "text/plain": [
       "Contract            0.098182\n",
       "OnlineSecurity      0.064528\n",
       "TechSupport         0.062873\n",
       "InternetService     0.055394\n",
       "OnlineBackup        0.046659\n",
       "PaymentMethod       0.044423\n",
       "DeviceProtection    0.043784\n",
       "StreamingMovies     0.031918\n",
       "StreamingTV         0.031803\n",
       "PaperlessBilling    0.019119\n",
       "Dependents          0.014270\n",
       "Partner             0.011383\n",
       "MultipleLines       0.000798\n",
       "PhoneService        0.000069\n",
       "gender              0.000037\n",
       "dtype: float64"
      ]
     },
     "execution_count": 13,
     "metadata": {},
     "output_type": "execute_result"
    }
   ],
   "source": [
    "from sklearn.metrics import mutual_info_score\n",
    "\n",
    "def calculate_mi(series):\n",
    "    return mutual_info_score(series, df[\"Churn\"])\n",
    "\n",
    "# categorical_variables = df.select_dtypes(include=object).drop(\"Churn\", axis=1)\n",
    "categorical_variables = df.select_dtypes(include=object)\n",
    "\n",
    "feature_importance = categorical_variables.apply(calculate_mi).sort_values(ascending=False)\n",
    "\n",
    "feature_importance"
   ]
  },
  {
   "cell_type": "code",
   "execution_count": 14,
   "id": "f97875a8",
   "metadata": {
    "scrolled": true
   },
   "outputs": [
    {
     "data": {
      "image/png": "[encoded data removed]",
      "text/plain": [
       "<Figure size 864x288 with 2 Axes>"
      ]
     },
     "metadata": {
      "needs_background": "light"
     },
     "output_type": "display_data"
    }
   ],
   "source": [
    "fig, axis = plt.subplots(1, 2, figsize=(12,4))\n",
    "axis[0].set_title(\"Has partner\")\n",
    "axis[1].set_title(\"Has dependents\")\n",
    "axis_y = \"percentage of customers\"\n",
    "# Plot Partner column\n",
    "gp_partner = df.groupby('Partner')[\"Churn\"].value_counts()/len(df)\n",
    "gp_partner = gp_partner.to_frame().rename({\"Churn\": axis_y}, axis=1).reset_index()\n",
    "ax = sns.barplot(x='Partner', y= axis_y, hue='Churn', data=gp_partner, ax=axis[0])\n",
    "# Plot Dependents column\n",
    "gp_dep = df.groupby('Dependents')[\"Churn\"].value_counts()/len(df)\n",
    "gp_dep = gp_dep.to_frame().rename({\"Churn\": axis_y}, axis=1).reset_index()\n",
    "ax = sns.barplot(x='Dependents', y= axis_y, hue='Churn', data=gp_dep, ax=axis[1])"
   ]
  },
  {
   "cell_type": "code",
   "execution_count": 15,
   "id": "fa06d554",
   "metadata": {},
   "outputs": [
    {
     "name": "stdout",
     "output_type": "stream",
     "text": [
      "A customer with a partner has a probability of 19.72 % churn\n",
      " \n",
      "A customer without any partner has a probability of 32.98 % churn\n"
     ]
    }
   ],
   "source": [
    "print(f'A customer with a partner has a probability of {round(df[df[\"Partner\"]==\"Yes\"][\"Churn\"].mean()*100,2)} % churn')\n",
    "print(\" \")\n",
    "print(f'A customer without any partner has a probability of {round(df[df[\"Partner\"]==\"No\"][\"Churn\"].mean()*100,2)} % churn')"
   ]
  },
  {
   "cell_type": "code",
   "execution_count": 16,
   "id": "1a787c04",
   "metadata": {},
   "outputs": [
    {
     "name": "stdout",
     "output_type": "stream",
     "text": [
      "A customer with dependents has a probability of 15.53 % churn\n",
      "  \n",
      "A customer without any dependents has a probability of 31.28 % churn\n"
     ]
    }
   ],
   "source": [
    "print (f'A customer with dependents has a probability of {round(df[df[\"Dependents\"]==\"Yes\"][\"Churn\"].mean()*100,2)} % churn')\n",
    "print(\"  \")\n",
    "print (f'A customer without any dependents has a probability of {round(df[df[\"Dependents\"]==\"No\"][\"Churn\"].mean()*100,2)} % churn')"
   ]
  },
  {
   "cell_type": "markdown",
   "id": "bd17246d",
   "metadata": {},
   "source": [
    "- Customers that doesn't have partners are more likely to churn\n",
    "- Customers without dependents are also more likely to churn"
   ]
  },
  {
   "cell_type": "code",
   "execution_count": 17,
   "id": "ce439e61",
   "metadata": {},
   "outputs": [],
   "source": [
    "def barplot_percentages(feature, orient='v', axis_name=\"percentage of customers\"):\n",
    "    ratios = pd.DataFrame()\n",
    "    g = df.groupby(feature)[\"Churn\"].value_counts().to_frame()\n",
    "    g = g.rename({\"Churn\": axis_name}, axis=1).reset_index()\n",
    "    g[axis_name] = g[axis_name]/len(df)\n",
    "    if orient == 'v':\n",
    "        ax = sns.barplot(x=feature, y= axis_name, hue='Churn', data=g, orient=orient)\n",
    "        ax.set_yticklabels(['{:,.0%}'.format(y) for y in ax.get_yticks()])\n",
    "    else:\n",
    "        ax = sns.barplot(x= axis_name, y=feature, hue='Churn', data=g, orient=orient)\n",
    "        ax.set_xticklabels(['{:,.0%}'.format(x) for x in ax.get_xticks()]\n",
    "    )"
   ]
  },
  {
   "cell_type": "code",
   "execution_count": 18,
   "id": "269a812d",
   "metadata": {},
   "outputs": [
    {
     "name": "stderr",
     "output_type": "stream",
     "text": [
      "<ipython-input-17-b5dd464f67de>:11: UserWarning: FixedFormatter should only be used together with FixedLocator\n",
      "  ax.set_xticklabels(['{:,.0%}'.format(x) for x in ax.get_xticks()]\n"
     ]
    },
    {
     "data": {
      "image/png": "[encoded data removed]",
      "text/plain": [
       "<Figure size 648x324 with 1 Axes>"
      ]
     },
     "metadata": {
      "needs_background": "light"
     },
     "output_type": "display_data"
    }
   ],
   "source": [
    "plt.figure(figsize=(9, 4.5))\n",
    "barplot_percentages(\"InternetService\", orient=\"h\")"
   ]
  },
  {
   "cell_type": "code",
   "execution_count": 19,
   "id": "f6b94997",
   "metadata": {},
   "outputs": [
    {
     "name": "stdout",
     "output_type": "stream",
     "text": [
      "A customer with a Fiber Optic internet service has a probability of 41.89 % churn\n",
      " \n",
      "A customer with a DSL internet service has a probability of 19.0 % churn\n",
      " \n",
      "A customer without any internet service has a probability of 7.43 % churn\n"
     ]
    }
   ],
   "source": [
    "print (f'A customer with a Fiber Optic internet service has a probability of {round(df[df[\"InternetService\"]==\"Fiber optic\"][\"Churn\"].mean()*100,2)} % churn')\n",
    "\n",
    "print(\" \")\n",
    "\n",
    "print (f'A customer with a DSL internet service has a probability of {round(df[df[\"InternetService\"]==\"DSL\"][\"Churn\"].mean()*100,2)} % churn')\n",
    "\n",
    "print(\" \")\n",
    "\n",
    "print (f'A customer without any internet service has a probability of {round(df[df[\"InternetService\"]==\"No\"][\"Churn\"].mean()*100,2)} % churn')"
   ]
  },
  {
   "cell_type": "code",
   "execution_count": 20,
   "id": "39896838",
   "metadata": {},
   "outputs": [
    {
     "data": {
      "image/png": "[encoded data removed]",
      "text/plain": [
       "<Figure size 518.4x288 with 2 Axes>"
      ]
     },
     "metadata": {
      "needs_background": "light"
     },
     "output_type": "display_data"
    }
   ],
   "source": [
    "g = sns.FacetGrid(df, col=\"PaperlessBilling\", height=4, aspect=.9)\n",
    "ax = g.map(sns.barplot, \"Contract\", \"Churn\", palette=\"Blues_d\",\n",
    "          order=[\"Month-to-month\", \"One year\", \"Two year\"])"
   ]
  },
  {
   "cell_type": "code",
   "execution_count": 21,
   "id": "2c2fa333",
   "metadata": {
    "scrolled": true
   },
   "outputs": [
    {
     "name": "stderr",
     "output_type": "stream",
     "text": [
      "<ipython-input-17-b5dd464f67de>:11: UserWarning: FixedFormatter should only be used together with FixedLocator\n",
      "  ax.set_xticklabels(['{:,.0%}'.format(x) for x in ax.get_xticks()]\n"
     ]
    },
    {
     "data": {
      "image/png": "[encoded data removed]",
      "text/plain": [
       "<Figure size 648x324 with 1 Axes>"
      ]
     },
     "metadata": {
      "needs_background": "light"
     },
     "output_type": "display_data"
    }
   ],
   "source": [
    "plt.figure(figsize=(9, 4.5))\n",
    "barplot_percentages(\"PaymentMethod\", orient=\"h\")"
   ]
  },
  {
   "cell_type": "code",
   "execution_count": 22,
   "id": "fb7d81ec",
   "metadata": {},
   "outputs": [
    {
     "name": "stdout",
     "output_type": "stream",
     "text": [
      "A customer with a Payment method as a Electornic Check has a probability of 45.29 % churn\n",
      "\n",
      "A customer with a Payment method as a Mailed Check has a probability of 19.2 % churn\n",
      "\n",
      "A customer with a Payment method as a Bank transfer (automatic) has a probability of 16.73 % churn\n",
      "\n",
      "A customer with a Payment method as a Credit card (automatic) has a probability of 15.25 % churn\n"
     ]
    }
   ],
   "source": [
    "print (f'A customer with a Payment method as a Electornic Check has a probability of {round(df[df[\"PaymentMethod\"]==\"Electronic check\"][\"Churn\"].mean()*100,2)} % churn')\n",
    "\n",
    "print()\n",
    "\n",
    "print (f'A customer with a Payment method as a Mailed Check has a probability of {round(df[df[\"PaymentMethod\"]==\"Mailed check\"][\"Churn\"].mean()*100,2)} % churn')\n",
    "\n",
    "print()\n",
    "\n",
    "print (f'A customer with a Payment method as a Bank transfer (automatic) has a probability of {round(df[df[\"PaymentMethod\"]==\"Bank transfer (automatic)\"][\"Churn\"].mean()*100,2)} % churn')\n",
    "\n",
    "print()\n",
    "\n",
    "print (f'A customer with a Payment method as a Credit card (automatic) has a probability of {round(df[df[\"PaymentMethod\"]==\"Credit card (automatic)\"][\"Churn\"].mean()*100,2)} % churn')"
   ]
  },
  {
   "cell_type": "markdown",
   "id": "5f9e86a9",
   "metadata": {},
   "source": [
    "- Customers with paperless billing are more probable to churn\n",
    "- The preferred payment method is Electronic check with around 35% of customers.\n",
    "- Short term contracts have higher churn rates."
   ]
  },
  {
   "cell_type": "code",
   "execution_count": 23,
   "id": "84f9af1c",
   "metadata": {},
   "outputs": [
    {
     "data": {
      "image/png": "[encoded data removed]",
      "text/plain": [
       "<Figure size 474.375x288 with 1 Axes>"
      ]
     },
     "metadata": {
      "needs_background": "light"
     },
     "output_type": "display_data"
    }
   ],
   "source": [
    "ax = sns.catplot(x=\"Contract\", y=\"MonthlyCharges\", hue=\"Churn\", kind=\"box\", data=df, height=4, aspect=1.5)"
   ]
  },
  {
   "cell_type": "markdown",
   "id": "94baa389",
   "metadata": {},
   "source": [
    "- Longer contracts are more affected by higher monthly charges for churn rate."
   ]
  },
  {
   "cell_type": "markdown",
   "id": "6b24c159",
   "metadata": {},
   "source": [
    "### Feature Engineering"
   ]
  },
  {
   "cell_type": "code",
   "execution_count": 33,
   "id": "dd15c841",
   "metadata": {},
   "outputs": [
    {
     "name": "stdout",
     "output_type": "stream",
     "text": [
      "['No' 'No internet service' 'Yes']\n"
     ]
    }
   ],
   "source": [
    "print(np.unique(df[['OnlineSecurity','OnlineBackup','DeviceProtection',\n",
    "     'TechSupport','StreamingTV','StreamingMovies']].values))"
   ]
  },
  {
   "cell_type": "markdown",
   "id": "1c9a3402",
   "metadata": {},
   "source": [
    "- We see that `No internet service` is repeating several times in the features and in this problem at hand it gives same meaning as **No**  \n",
    "- Therefore we can change them to **No** and then features will have two unique values."
   ]
  },
  {
   "cell_type": "code",
   "execution_count": 34,
   "id": "7c1fd172",
   "metadata": {},
   "outputs": [],
   "source": [
    "df[['OnlineSecurity','OnlineBackup','DeviceProtection',\n",
    "     'TechSupport','StreamingTV','StreamingMovies']]= df[['OnlineSecurity','OnlineBackup','DeviceProtection',\n",
    "                                                           'TechSupport','StreamingTV','StreamingMovies']].replace('No internet service','No')"
   ]
  },
  {
   "cell_type": "markdown",
   "id": "c93267f0",
   "metadata": {},
   "source": [
    "#### Label Encoder"
   ]
  },
  {
   "cell_type": "markdown",
   "id": "1986630d",
   "metadata": {},
   "source": [
    "This approach involves converting each value in a column to a number. This encoding replaces every category with a numerical label."
   ]
  },
  {
   "cell_type": "code",
   "execution_count": 35,
   "id": "c600e0d8",
   "metadata": {},
   "outputs": [],
   "source": [
    "df_transformed = df.copy()"
   ]
  },
  {
   "cell_type": "code",
   "execution_count": 37,
   "id": "4cda1995",
   "metadata": {},
   "outputs": [],
   "source": [
    "label_encoding_colums = [\"gender\", \"Partner\", \"Dependents\", \"PaperlessBilling\",\n",
    "                        \"PhoneService\", \"OnlineSecurity\",\"OnlineBackup\",\"DeviceProtection\", \n",
    "                         \"TechSupport\",\"StreamingTV\",\"StreamingMovies\"]\n",
    "\n",
    "for column in label_encoding_colums:\n",
    "    if column == \"gender\":\n",
    "        df_transformed[column] = df_transformed[column].map({\"Female\": 1, \"Male\": 0})\n",
    "    else:\n",
    "        df_transformed[column] = df_transformed[column].map({\"Yes\": 1, \"No\": 0})"
   ]
  },
  {
   "cell_type": "markdown",
   "id": "7cf2a87f",
   "metadata": {},
   "source": [
    "#### One-Hot Encoder"
   ]
  },
  {
   "cell_type": "markdown",
   "id": "6b9e455b",
   "metadata": {},
   "source": [
    "Each category value is converted into a new column an assigned a 1 or 0 value to the column. The new column contains zeros and ones indicating the absence or presence of the category in the data."
   ]
  },
  {
   "cell_type": "code",
   "execution_count": 42,
   "id": "eb971d69",
   "metadata": {},
   "outputs": [
    {
     "data": {
      "text/plain": [
       "array(['DSL', 'Fiber optic', 'No'], dtype=object)"
      ]
     },
     "execution_count": 42,
     "metadata": {},
     "output_type": "execute_result"
    }
   ],
   "source": [
    "df[\"InternetService\"].unique()"
   ]
  },
  {
   "cell_type": "code",
   "execution_count": 44,
   "id": "0b10a473",
   "metadata": {},
   "outputs": [],
   "source": [
    "one_hot_encoding_columns = [\"MultipleLines\", \"InternetService\",\n",
    "                            \"Contract\", \"PaymentMethod\"]\n",
    "\n",
    "df_transformed = pd.get_dummies(df_transformed, columns=one_hot_encoding_columns)"
   ]
  },
  {
   "cell_type": "markdown",
   "id": "2f02c41c",
   "metadata": {},
   "source": [
    "####  Normalization"
   ]
  },
  {
   "cell_type": "markdown",
   "id": "755175f3",
   "metadata": {},
   "source": [
    "The goal of normalization is to transform features to be on a similar scale. This improves the performance and training stabillity of the model. We are using **Min-Max Scaling**"
   ]
  },
  {
   "cell_type": "code",
   "execution_count": 45,
   "id": "21e45734",
   "metadata": {},
   "outputs": [],
   "source": [
    "min_max_columns = [\"tenure\", \"MonthlyCharges\", \"TotalCharges\"]"
   ]
  },
  {
   "cell_type": "code",
   "execution_count": 46,
   "id": "0e517e41",
   "metadata": {},
   "outputs": [],
   "source": [
    "for column in min_max_columns:\n",
    "    min_column = df_transformed[column].min()\n",
    "    max_column = df_transformed[column].max()\n",
    "    df_transformed[column] = (df_transformed[column] - min_column) / (max_column - min_column)"
   ]
  },
  {
   "cell_type": "markdown",
   "id": "cc6fff95",
   "metadata": {},
   "source": [
    "### Training and Testing Data"
   ]
  },
  {
   "cell_type": "code",
   "execution_count": 48,
   "id": "484fb6ef",
   "metadata": {},
   "outputs": [
    {
     "name": "stdout",
     "output_type": "stream",
     "text": [
      "Index(['gender', 'SeniorCitizen', 'Partner', 'Dependents', 'tenure',\n",
      "       'PhoneService', 'OnlineSecurity', 'OnlineBackup', 'DeviceProtection',\n",
      "       'TechSupport', 'StreamingTV', 'StreamingMovies', 'PaperlessBilling',\n",
      "       'MonthlyCharges', 'TotalCharges', 'MultipleLines_No',\n",
      "       'MultipleLines_No phone service', 'MultipleLines_Yes',\n",
      "       'InternetService_DSL', 'InternetService_Fiber optic',\n",
      "       'InternetService_No', 'Contract_Month-to-month', 'Contract_One year',\n",
      "       'Contract_Two year', 'PaymentMethod_Bank transfer (automatic)',\n",
      "       'PaymentMethod_Credit card (automatic)',\n",
      "       'PaymentMethod_Electronic check', 'PaymentMethod_Mailed check'],\n",
      "      dtype='object')\n",
      "Churn\n"
     ]
    }
   ],
   "source": [
    "X = df_transformed.drop(columns=\"Churn\")\n",
    "y = df_transformed.loc[:, \"Churn\"]\n",
    "\n",
    "print(X.columns)\n",
    "print(y.name)"
   ]
  },
  {
   "cell_type": "code",
   "execution_count": 50,
   "id": "f1b4512e",
   "metadata": {},
   "outputs": [],
   "source": [
    "X_train, X_test, y_train, y_test = train_test_split(X, y, test_size=0.3,\n",
    "                                                   random_state=42, shuffle=True)"
   ]
  },
  {
   "cell_type": "markdown",
   "id": "f16ff923",
   "metadata": {},
   "source": [
    "### Training Algorithms"
   ]
  },
  {
   "cell_type": "markdown",
   "id": "e30ee846",
   "metadata": {},
   "source": [
    "For this model we are going to use these algorithms:\n",
    "- K Nearest Neighbors\n",
    "- Logistic Regression\n",
    "- Support Vector Machines\n",
    "- Random Forest\n",
    "- XGBoost"
   ]
  },
  {
   "cell_type": "code",
   "execution_count": 87,
   "id": "7073bb2a",
   "metadata": {},
   "outputs": [],
   "source": [
    "def create_models(seed=42):\n",
    "    \n",
    "    # Create a list of machine learning models.\n",
    "    \n",
    "    models = {}\n",
    "    models[\"k_nearest_neighbors\"] = KNeighborsClassifier()\n",
    "    models[\"logistic_regression\"] = LogisticRegression(random_state=seed)\n",
    "    models[\"support_vector_machines\"] = SVC(random_state=seed)\n",
    "    models[\"random_forest\"] = RandomForestClassifier(random_state=seed)\n",
    "    models[\"gradient_boosting\"] = GradientBoostingClassifier(random_state=seed)\n",
    "    models[\"xgboost\"] = XGBClassifier(random_state=seed)\n",
    "    \n",
    "    return models\n",
    "\n",
    "models = create_models()"
   ]
  },
  {
   "cell_type": "code",
   "execution_count": 90,
   "id": "0e5f17e0",
   "metadata": {},
   "outputs": [
    {
     "name": "stdout",
     "output_type": "stream",
     "text": [
      "Classifier: k_nearest_neighbors, Accuracy: 0.7536\n",
      "Classifier: logistic_regression, Accuracy: 0.7957\n",
      "Classifier: support_vector_machines, Accuracy: 0.7929\n",
      "Classifier: random_forest, Accuracy: 0.7820\n",
      "Classifier: gradient_boosting, Accuracy: 0.7976\n",
      "Classifier: xgboost, Accuracy: 0.7810\n"
     ]
    }
   ],
   "source": [
    "for name, model in models.items():\n",
    "    # Fit the model with the training data\n",
    "    model.fit(X_train, y_train)\n",
    "    # Make predictions with the testting \n",
    "    predictions = model.predict(X_test)\n",
    "    # Calculate accuracy\n",
    "    accuracy = accuracy_score(y_test, predictions)\n",
    "    # Append the model name and the accuracy to the lists\n",
    "    \n",
    "    print(f\"Classifier: {name}, Accuracy: {accuracy:.4f}\")"
   ]
  },
  {
   "cell_type": "markdown",
   "id": "d779513f",
   "metadata": {},
   "source": [
    "We chose **Gradient Boosting** as a best fitting algorithm for this problem."
   ]
  },
  {
   "cell_type": "code",
   "execution_count": 93,
   "id": "aca8d4d4",
   "metadata": {},
   "outputs": [],
   "source": [
    "best_model = models[\"gradient_boosting\"]"
   ]
  },
  {
   "cell_type": "markdown",
   "id": "7f1a3b64",
   "metadata": {},
   "source": [
    "#### Confusion Matrix"
   ]
  },
  {
   "cell_type": "code",
   "execution_count": 95,
   "id": "f072d815",
   "metadata": {},
   "outputs": [
    {
     "name": "stderr",
     "output_type": "stream",
     "text": [
      "C:\\Users\\ali\\anaconda3\\lib\\site-packages\\sklearn\\utils\\deprecation.py:87: FutureWarning: Function plot_confusion_matrix is deprecated; Function `plot_confusion_matrix` is deprecated in 1.0 and will be removed in 1.2. Use one of the class methods: ConfusionMatrixDisplay.from_predictions or ConfusionMatrixDisplay.from_estimator.\n",
      "  warnings.warn(msg, category=FutureWarning)\n"
     ]
    },
    {
     "data": {
      "image/png": "[encoded data removed]",
      "text/plain": [
       "<Figure size 576x576 with 2 Axes>"
      ]
     },
     "metadata": {
      "needs_background": "light"
     },
     "output_type": "display_data"
    }
   ],
   "source": [
    "fig, ax = plt.subplots(figsize=(8, 8))\n",
    "plot_confusion_matrix(best_model, X_test, y_test, cmap=plt.cm.Blues, ax=ax);"
   ]
  },
  {
   "cell_type": "code",
   "execution_count": 99,
   "id": "14e5398b",
   "metadata": {},
   "outputs": [],
   "source": [
    "best_model_prediction = best_model.predict(X_test)"
   ]
  },
  {
   "cell_type": "code",
   "execution_count": 100,
   "id": "18e8e596",
   "metadata": {},
   "outputs": [
    {
     "name": "stdout",
     "output_type": "stream",
     "text": [
      "              precision    recall  f1-score   support\n",
      "\n",
      "           0       0.84      0.90      0.87      1549\n",
      "           1       0.65      0.52      0.58       561\n",
      "\n",
      "    accuracy                           0.80      2110\n",
      "   macro avg       0.74      0.71      0.72      2110\n",
      "weighted avg       0.79      0.80      0.79      2110\n",
      "\n"
     ]
    }
   ],
   "source": [
    "print(classification_report(y_test, best_model_prediction))"
   ]
  },
  {
   "cell_type": "code",
   "execution_count": 101,
   "id": "4cacf3b4",
   "metadata": {},
   "outputs": [
    {
     "data": {
      "text/plain": [
       "0.7976303317535545"
      ]
     },
     "execution_count": 101,
     "metadata": {},
     "output_type": "execute_result"
    }
   ],
   "source": [
    "accuracy_score(y_test, best_model_prediction)"
   ]
  },
  {
   "cell_type": "markdown",
   "id": "f7fba0cb",
   "metadata": {},
   "source": [
    "Now we can use this model for scoring real customers and think about our marketing campaign for preventing churn."
   ]
  }
 ],
 "metadata": {
  "kernelspec": {
   "display_name": "Python 3",
   "language": "python",
   "name": "python3"
  },
  "language_info": {
   "codemirror_mode": {
    "name": "ipython",
    "version": 3
   },
   "file_extension": ".py",
   "mimetype": "text/x-python",
   "name": "python",
   "nbconvert_exporter": "python",
   "pygments_lexer": "ipython3",
   "version": "3.8.8"
  }
 },
 "nbformat": 4,
 "nbformat_minor": 5
}
